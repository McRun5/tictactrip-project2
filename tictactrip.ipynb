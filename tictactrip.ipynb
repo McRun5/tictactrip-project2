{
  "nbformat": 4,
  "nbformat_minor": 0,
  "metadata": {
    "colab": {
      "name": "tictactrip.ipynb",
      "provenance": [],
      "collapsed_sections": [],
      "toc_visible": true
    },
    "kernelspec": {
      "name": "python3",
      "display_name": "Python 3"
    },
    "language_info": {
      "name": "python"
    }
  },
  "cells": [
    {
      "cell_type": "code",
      "metadata": {
        "id": "MLXtqoFSxmaB"
      },
      "source": [
        "import pandas as pd\n",
        "import numpy as np"
      ],
      "execution_count": null,
      "outputs": []
    },
    {
      "cell_type": "code",
      "metadata": {
        "id": "XAjfDvBQyoB3"
      },
      "source": [
        "cities = pd.read_csv('/content/drive/MyDrive/Data/data/cities.csv')\n",
        "providers = pd.read_csv('/content/drive/MyDrive/Data/data/providers.csv')\n",
        "stations = pd.read_csv('/content/drive/MyDrive/Data/data/stations.csv')\n",
        "ticket_data = pd.read_csv('/content/drive/MyDrive/Data/data/ticket_data.csv')"
      ],
      "execution_count": null,
      "outputs": []
    },
    {
      "cell_type": "markdown",
      "metadata": {
        "id": "mTCGDhkJ1-MW"
      },
      "source": [
        "# Prix min, moyen et max par trajet\n"
      ]
    },
    {
      "cell_type": "code",
      "metadata": {
        "colab": {
          "base_uri": "https://localhost:8080/"
        },
        "id": "NLZjebK06uFb",
        "outputId": "12945919-6767-495b-b433-390c635bba27"
      },
      "source": [
        "ticket_data.shape"
      ],
      "execution_count": null,
      "outputs": [
        {
          "output_type": "execute_result",
          "data": {
            "text/plain": [
              "(74168, 12)"
            ]
          },
          "metadata": {
            "tags": []
          },
          "execution_count": 285
        }
      ]
    },
    {
      "cell_type": "code",
      "metadata": {
        "colab": {
          "base_uri": "https://localhost:8080/",
          "height": 187
        },
        "id": "QRLtIbUC3BDa",
        "outputId": "f404ac95-98cf-4291-8718-b37c0a3b44b2"
      },
      "source": [
        "ticket_data.head(3)"
      ],
      "execution_count": null,
      "outputs": [
        {
          "output_type": "execute_result",
          "data": {
            "text/html": [
              "<div>\n",
              "<style scoped>\n",
              "    .dataframe tbody tr th:only-of-type {\n",
              "        vertical-align: middle;\n",
              "    }\n",
              "\n",
              "    .dataframe tbody tr th {\n",
              "        vertical-align: top;\n",
              "    }\n",
              "\n",
              "    .dataframe thead th {\n",
              "        text-align: right;\n",
              "    }\n",
              "</style>\n",
              "<table border=\"1\" class=\"dataframe\">\n",
              "  <thead>\n",
              "    <tr style=\"text-align: right;\">\n",
              "      <th></th>\n",
              "      <th>id</th>\n",
              "      <th>company</th>\n",
              "      <th>o_station</th>\n",
              "      <th>d_station</th>\n",
              "      <th>departure_ts</th>\n",
              "      <th>arrival_ts</th>\n",
              "      <th>price_in_cents</th>\n",
              "      <th>search_ts</th>\n",
              "      <th>middle_stations</th>\n",
              "      <th>other_companies</th>\n",
              "      <th>o_city</th>\n",
              "      <th>d_city</th>\n",
              "    </tr>\n",
              "  </thead>\n",
              "  <tbody>\n",
              "    <tr>\n",
              "      <th>0</th>\n",
              "      <td>6795025</td>\n",
              "      <td>8385</td>\n",
              "      <td>NaN</td>\n",
              "      <td>NaN</td>\n",
              "      <td>2017-10-13 14:00:00+00</td>\n",
              "      <td>2017-10-13 20:10:00+00</td>\n",
              "      <td>4550</td>\n",
              "      <td>2017-10-01 00:13:31.327+00</td>\n",
              "      <td>NaN</td>\n",
              "      <td>NaN</td>\n",
              "      <td>611</td>\n",
              "      <td>542</td>\n",
              "    </tr>\n",
              "    <tr>\n",
              "      <th>1</th>\n",
              "      <td>6795026</td>\n",
              "      <td>9</td>\n",
              "      <td>63.0</td>\n",
              "      <td>1044.0</td>\n",
              "      <td>2017-10-13 13:05:00+00</td>\n",
              "      <td>2017-10-14 06:55:00+00</td>\n",
              "      <td>1450</td>\n",
              "      <td>2017-10-01 00:13:35.773+00</td>\n",
              "      <td>{149,418}</td>\n",
              "      <td>{13}</td>\n",
              "      <td>611</td>\n",
              "      <td>542</td>\n",
              "    </tr>\n",
              "    <tr>\n",
              "      <th>2</th>\n",
              "      <td>6795027</td>\n",
              "      <td>8377</td>\n",
              "      <td>5905.0</td>\n",
              "      <td>6495.0</td>\n",
              "      <td>2017-10-13 13:27:00+00</td>\n",
              "      <td>2017-10-14 21:24:00+00</td>\n",
              "      <td>7400</td>\n",
              "      <td>2017-10-01 00:13:40.212+00</td>\n",
              "      <td>{798,798,6794,6246}</td>\n",
              "      <td>{8377,8376}</td>\n",
              "      <td>611</td>\n",
              "      <td>542</td>\n",
              "    </tr>\n",
              "  </tbody>\n",
              "</table>\n",
              "</div>"
            ],
            "text/plain": [
              "        id  company  o_station  ...  other_companies o_city d_city\n",
              "0  6795025     8385        NaN  ...              NaN    611    542\n",
              "1  6795026        9       63.0  ...             {13}    611    542\n",
              "2  6795027     8377     5905.0  ...      {8377,8376}    611    542\n",
              "\n",
              "[3 rows x 12 columns]"
            ]
          },
          "metadata": {
            "tags": []
          },
          "execution_count": 286
        }
      ]
    },
    {
      "cell_type": "code",
      "metadata": {
        "colab": {
          "base_uri": "https://localhost:8080/"
        },
        "id": "Hb1U0r-365dO",
        "outputId": "a780f0eb-83fc-419d-bba1-87770b20dc54"
      },
      "source": [
        "ticket_data.isna().sum()"
      ],
      "execution_count": null,
      "outputs": [
        {
          "output_type": "execute_result",
          "data": {
            "text/plain": [
              "id                     0\n",
              "company                0\n",
              "o_station          41441\n",
              "d_station          41441\n",
              "departure_ts           0\n",
              "arrival_ts             0\n",
              "price_in_cents         0\n",
              "search_ts              0\n",
              "middle_stations    41441\n",
              "other_companies    41441\n",
              "o_city                 0\n",
              "d_city                 0\n",
              "dtype: int64"
            ]
          },
          "metadata": {
            "tags": []
          },
          "execution_count": 287
        }
      ]
    },
    {
      "cell_type": "code",
      "metadata": {
        "id": "aE8uulxL5zFB"
      },
      "source": [
        "# ticket_data.dropna(inplace=True)\n",
        "# ticket_data.reset_index(drop=True, inplace=True)"
      ],
      "execution_count": null,
      "outputs": []
    },
    {
      "cell_type": "code",
      "metadata": {
        "id": "aWMVFFKT4tkI"
      },
      "source": [
        "# ticket_data.o_station = ticket_data.o_station.astype(int, copy=False)\n",
        "# ticket_data.d_station = ticket_data.d_station.astype(int, copy=False)"
      ],
      "execution_count": null,
      "outputs": []
    },
    {
      "cell_type": "code",
      "metadata": {
        "colab": {
          "base_uri": "https://localhost:8080/"
        },
        "id": "7waVuDyp8cPp",
        "outputId": "df5299b7-456e-47e5-e857-15d5c49e52a3"
      },
      "source": [
        "ticket_data.info()"
      ],
      "execution_count": null,
      "outputs": [
        {
          "output_type": "stream",
          "text": [
            "<class 'pandas.core.frame.DataFrame'>\n",
            "RangeIndex: 74168 entries, 0 to 74167\n",
            "Data columns (total 12 columns):\n",
            " #   Column           Non-Null Count  Dtype  \n",
            "---  ------           --------------  -----  \n",
            " 0   id               74168 non-null  int64  \n",
            " 1   company          74168 non-null  int64  \n",
            " 2   o_station        32727 non-null  float64\n",
            " 3   d_station        32727 non-null  float64\n",
            " 4   departure_ts     74168 non-null  object \n",
            " 5   arrival_ts       74168 non-null  object \n",
            " 6   price_in_cents   74168 non-null  int64  \n",
            " 7   search_ts        74168 non-null  object \n",
            " 8   middle_stations  32727 non-null  object \n",
            " 9   other_companies  32727 non-null  object \n",
            " 10  o_city           74168 non-null  int64  \n",
            " 11  d_city           74168 non-null  int64  \n",
            "dtypes: float64(2), int64(5), object(5)\n",
            "memory usage: 6.8+ MB\n"
          ],
          "name": "stdout"
        }
      ]
    },
    {
      "cell_type": "code",
      "metadata": {
        "colab": {
          "base_uri": "https://localhost:8080/"
        },
        "id": "TOWz6gkTy5fZ",
        "outputId": "3f99895d-a0db-4dfc-c0c8-83a25b00f506"
      },
      "source": [
        "ticket_data.groupby(['o_city', 'd_city'])['price_in_cents'].min()"
      ],
      "execution_count": null,
      "outputs": [
        {
          "output_type": "execute_result",
          "data": {
            "text/plain": [
              "o_city  d_city\n",
              "5       23        18600\n",
              "6       227        9860\n",
              "        504        2000\n",
              "        628        2600\n",
              "        845         700\n",
              "                  ...  \n",
              "11938   126        3000\n",
              "12124   1064       6000\n",
              "12166   857        5300\n",
              "12190   639         600\n",
              "        8937       9800\n",
              "Name: price_in_cents, Length: 1437, dtype: int64"
            ]
          },
          "metadata": {
            "tags": []
          },
          "execution_count": 291
        }
      ]
    },
    {
      "cell_type": "code",
      "metadata": {
        "colab": {
          "base_uri": "https://localhost:8080/"
        },
        "id": "JV2-Bwqh3YM1",
        "outputId": "e6ca8b58-a2b4-4e57-a9f4-b64097836ca2"
      },
      "source": [
        "ticket_data.groupby(['o_city', 'd_city'])['price_in_cents'].max()"
      ],
      "execution_count": null,
      "outputs": [
        {
          "output_type": "execute_result",
          "data": {
            "text/plain": [
              "o_city  d_city\n",
              "5       23        22000\n",
              "6       227       13650\n",
              "        504        8920\n",
              "        628        3190\n",
              "        845        2420\n",
              "                  ...  \n",
              "11938   126        5350\n",
              "12124   1064       7900\n",
              "12166   857        5300\n",
              "12190   639         850\n",
              "        8937       9800\n",
              "Name: price_in_cents, Length: 1437, dtype: int64"
            ]
          },
          "metadata": {
            "tags": []
          },
          "execution_count": 292
        }
      ]
    },
    {
      "cell_type": "code",
      "metadata": {
        "colab": {
          "base_uri": "https://localhost:8080/"
        },
        "id": "nTB3qU9a3Ysf",
        "outputId": "36d1ad14-e371-49a0-eab6-086c266a5bd3"
      },
      "source": [
        "ticket_data.groupby(['o_city', 'd_city'])['price_in_cents'].mean()"
      ],
      "execution_count": null,
      "outputs": [
        {
          "output_type": "execute_result",
          "data": {
            "text/plain": [
              "o_city  d_city\n",
              "5       23        20320.000000\n",
              "6       227       11755.000000\n",
              "        504        4042.666667\n",
              "        628        2797.500000\n",
              "        845         864.626866\n",
              "                      ...     \n",
              "11938   126        4204.861111\n",
              "12124   1064       6950.000000\n",
              "12166   857        5300.000000\n",
              "12190   639         688.888889\n",
              "        8937       9800.000000\n",
              "Name: price_in_cents, Length: 1437, dtype: float64"
            ]
          },
          "metadata": {
            "tags": []
          },
          "execution_count": 293
        }
      ]
    },
    {
      "cell_type": "markdown",
      "metadata": {
        "id": "d3a0dpvN2HaM"
      },
      "source": [
        "# Durée min/max/moyenne par trajet"
      ]
    },
    {
      "cell_type": "code",
      "metadata": {
        "colab": {
          "base_uri": "https://localhost:8080/"
        },
        "id": "50DacnZP97N2",
        "outputId": "0f5e7ef2-324f-474a-e3ad-7d82e1925e7c"
      },
      "source": [
        "ticket_data.info()"
      ],
      "execution_count": null,
      "outputs": [
        {
          "output_type": "stream",
          "text": [
            "<class 'pandas.core.frame.DataFrame'>\n",
            "RangeIndex: 74168 entries, 0 to 74167\n",
            "Data columns (total 12 columns):\n",
            " #   Column           Non-Null Count  Dtype  \n",
            "---  ------           --------------  -----  \n",
            " 0   id               74168 non-null  int64  \n",
            " 1   company          74168 non-null  int64  \n",
            " 2   o_station        32727 non-null  float64\n",
            " 3   d_station        32727 non-null  float64\n",
            " 4   departure_ts     74168 non-null  object \n",
            " 5   arrival_ts       74168 non-null  object \n",
            " 6   price_in_cents   74168 non-null  int64  \n",
            " 7   search_ts        74168 non-null  object \n",
            " 8   middle_stations  32727 non-null  object \n",
            " 9   other_companies  32727 non-null  object \n",
            " 10  o_city           74168 non-null  int64  \n",
            " 11  d_city           74168 non-null  int64  \n",
            "dtypes: float64(2), int64(5), object(5)\n",
            "memory usage: 6.8+ MB\n"
          ],
          "name": "stdout"
        }
      ]
    },
    {
      "cell_type": "code",
      "metadata": {
        "id": "LeXpNGM99cz1"
      },
      "source": [
        "# transformer le type de departure_ts et arrival_ts a datetime\n",
        "ticket_data['departure_ts'] = pd.to_datetime(ticket_data['departure_ts'])\n",
        "ticket_data['arrival_ts'] = pd.to_datetime(ticket_data['arrival_ts'])"
      ],
      "execution_count": null,
      "outputs": []
    },
    {
      "cell_type": "code",
      "metadata": {
        "id": "8YIL3iH6-8HA"
      },
      "source": [
        "# calculer la duree de chaque \n",
        "ticket_data[\"duree\"] = ticket_data.arrival_ts - ticket_data.departure_ts "
      ],
      "execution_count": null,
      "outputs": []
    },
    {
      "cell_type": "code",
      "metadata": {
        "colab": {
          "base_uri": "https://localhost:8080/",
          "height": 187
        },
        "id": "-oUH1vs7Z1Su",
        "outputId": "d5b23f96-e13d-440d-b54d-c85360402725"
      },
      "source": [
        "ticket_data.sample(3)"
      ],
      "execution_count": null,
      "outputs": [
        {
          "output_type": "execute_result",
          "data": {
            "text/html": [
              "<div>\n",
              "<style scoped>\n",
              "    .dataframe tbody tr th:only-of-type {\n",
              "        vertical-align: middle;\n",
              "    }\n",
              "\n",
              "    .dataframe tbody tr th {\n",
              "        vertical-align: top;\n",
              "    }\n",
              "\n",
              "    .dataframe thead th {\n",
              "        text-align: right;\n",
              "    }\n",
              "</style>\n",
              "<table border=\"1\" class=\"dataframe\">\n",
              "  <thead>\n",
              "    <tr style=\"text-align: right;\">\n",
              "      <th></th>\n",
              "      <th>id</th>\n",
              "      <th>company</th>\n",
              "      <th>o_station</th>\n",
              "      <th>d_station</th>\n",
              "      <th>departure_ts</th>\n",
              "      <th>arrival_ts</th>\n",
              "      <th>price_in_cents</th>\n",
              "      <th>search_ts</th>\n",
              "      <th>middle_stations</th>\n",
              "      <th>other_companies</th>\n",
              "      <th>o_city</th>\n",
              "      <th>d_city</th>\n",
              "      <th>duree</th>\n",
              "    </tr>\n",
              "  </thead>\n",
              "  <tbody>\n",
              "    <tr>\n",
              "      <th>17786</th>\n",
              "      <td>6812810</td>\n",
              "      <td>8371</td>\n",
              "      <td>10642.0</td>\n",
              "      <td>304.0</td>\n",
              "      <td>2017-10-18 14:00:00+00:00</td>\n",
              "      <td>2017-10-18 21:15:00+00:00</td>\n",
              "      <td>1300</td>\n",
              "      <td>2017-10-06 08:37:37.863+00</td>\n",
              "      <td>{1105,1105}</td>\n",
              "      <td>{9}</td>\n",
              "      <td>628</td>\n",
              "      <td>562</td>\n",
              "      <td>0 days 07:15:00</td>\n",
              "    </tr>\n",
              "    <tr>\n",
              "      <th>55518</th>\n",
              "      <td>6850543</td>\n",
              "      <td>8376</td>\n",
              "      <td>334.0</td>\n",
              "      <td>6797.0</td>\n",
              "      <td>2017-10-17 18:14:00+00:00</td>\n",
              "      <td>2017-10-17 22:23:00+00:00</td>\n",
              "      <td>3300</td>\n",
              "      <td>2017-10-15 14:08:35.689+00</td>\n",
              "      <td>{3680,3680}</td>\n",
              "      <td>{8376}</td>\n",
              "      <td>504</td>\n",
              "      <td>628</td>\n",
              "      <td>0 days 04:09:00</td>\n",
              "    </tr>\n",
              "    <tr>\n",
              "      <th>56700</th>\n",
              "      <td>6851724</td>\n",
              "      <td>13</td>\n",
              "      <td>279.0</td>\n",
              "      <td>417.0</td>\n",
              "      <td>2017-11-17 08:30:00+00:00</td>\n",
              "      <td>2017-11-18 00:40:00+00:00</td>\n",
              "      <td>5490</td>\n",
              "      <td>2017-10-15 17:18:14.269+00</td>\n",
              "      <td>{482,482}</td>\n",
              "      <td>{13}</td>\n",
              "      <td>628</td>\n",
              "      <td>122</td>\n",
              "      <td>0 days 16:10:00</td>\n",
              "    </tr>\n",
              "  </tbody>\n",
              "</table>\n",
              "</div>"
            ],
            "text/plain": [
              "            id  company  o_station  ...  o_city d_city           duree\n",
              "17786  6812810     8371    10642.0  ...     628    562 0 days 07:15:00\n",
              "55518  6850543     8376      334.0  ...     504    628 0 days 04:09:00\n",
              "56700  6851724       13      279.0  ...     628    122 0 days 16:10:00\n",
              "\n",
              "[3 rows x 13 columns]"
            ]
          },
          "metadata": {
            "tags": []
          },
          "execution_count": 299
        }
      ]
    },
    {
      "cell_type": "code",
      "metadata": {
        "colab": {
          "base_uri": "https://localhost:8080/"
        },
        "id": "8VFHFBJ7_xMC",
        "outputId": "63007045-0e97-470c-be9a-aceef45cfeba"
      },
      "source": [
        "# Durée min par trajet\n",
        "ticket_data.groupby(['o_city', 'd_city'])['duree'].min()"
      ],
      "execution_count": null,
      "outputs": [
        {
          "output_type": "execute_result",
          "data": {
            "text/plain": [
              "o_city  d_city\n",
              "5       23       0 days 08:53:00\n",
              "6       227      0 days 12:24:00\n",
              "        504      0 days 05:36:00\n",
              "        628      0 days 09:40:00\n",
              "        845      0 days 01:00:00\n",
              "                       ...      \n",
              "11938   126      0 days 05:30:00\n",
              "12124   1064     0 days 11:10:00\n",
              "12166   857      0 days 21:55:00\n",
              "12190   639      0 days 01:10:00\n",
              "        8937     0 days 09:10:00\n",
              "Name: duree, Length: 1437, dtype: timedelta64[ns]"
            ]
          },
          "metadata": {
            "tags": []
          },
          "execution_count": 300
        }
      ]
    },
    {
      "cell_type": "code",
      "metadata": {
        "colab": {
          "base_uri": "https://localhost:8080/"
        },
        "id": "3qPly8A7APiP",
        "outputId": "2c955e77-74b5-449a-d478-1fe743469595"
      },
      "source": [
        "# Durée max par trajet\n",
        "ticket_data.groupby(['o_city', 'd_city'])['duree'].max()"
      ],
      "execution_count": null,
      "outputs": [
        {
          "output_type": "execute_result",
          "data": {
            "text/plain": [
              "o_city  d_city\n",
              "5       23       0 days 15:54:00\n",
              "6       227      0 days 15:01:00\n",
              "        504      0 days 12:20:00\n",
              "        628      0 days 14:30:00\n",
              "        845      0 days 04:11:00\n",
              "                       ...      \n",
              "11938   126      1 days 11:20:00\n",
              "12124   1064     0 days 23:10:00\n",
              "12166   857      0 days 21:55:00\n",
              "12190   639      0 days 02:40:00\n",
              "        8937     0 days 09:10:00\n",
              "Name: duree, Length: 1437, dtype: timedelta64[ns]"
            ]
          },
          "metadata": {
            "tags": []
          },
          "execution_count": 301
        }
      ]
    },
    {
      "cell_type": "code",
      "metadata": {
        "colab": {
          "base_uri": "https://localhost:8080/",
          "height": 408
        },
        "id": "WQZTzOssAP0v",
        "outputId": "455537db-5977-442d-8fa9-ce27cda263a4"
      },
      "source": [
        "# Durée moyenne par trajet\n",
        "ticket_data.groupby(['o_city', 'd_city'])['duree'].apply(np.mean).reset_index()"
      ],
      "execution_count": null,
      "outputs": [
        {
          "output_type": "execute_result",
          "data": {
            "text/html": [
              "<div>\n",
              "<style scoped>\n",
              "    .dataframe tbody tr th:only-of-type {\n",
              "        vertical-align: middle;\n",
              "    }\n",
              "\n",
              "    .dataframe tbody tr th {\n",
              "        vertical-align: top;\n",
              "    }\n",
              "\n",
              "    .dataframe thead th {\n",
              "        text-align: right;\n",
              "    }\n",
              "</style>\n",
              "<table border=\"1\" class=\"dataframe\">\n",
              "  <thead>\n",
              "    <tr style=\"text-align: right;\">\n",
              "      <th></th>\n",
              "      <th>o_city</th>\n",
              "      <th>d_city</th>\n",
              "      <th>duree</th>\n",
              "    </tr>\n",
              "  </thead>\n",
              "  <tbody>\n",
              "    <tr>\n",
              "      <th>0</th>\n",
              "      <td>5</td>\n",
              "      <td>23</td>\n",
              "      <td>0 days 10:18:48</td>\n",
              "    </tr>\n",
              "    <tr>\n",
              "      <th>1</th>\n",
              "      <td>6</td>\n",
              "      <td>227</td>\n",
              "      <td>0 days 13:42:30</td>\n",
              "    </tr>\n",
              "    <tr>\n",
              "      <th>2</th>\n",
              "      <td>6</td>\n",
              "      <td>504</td>\n",
              "      <td>0 days 08:17:24</td>\n",
              "    </tr>\n",
              "    <tr>\n",
              "      <th>3</th>\n",
              "      <td>6</td>\n",
              "      <td>628</td>\n",
              "      <td>0 days 12:10:00</td>\n",
              "    </tr>\n",
              "    <tr>\n",
              "      <th>4</th>\n",
              "      <td>6</td>\n",
              "      <td>845</td>\n",
              "      <td>0 days 01:19:54.626865671</td>\n",
              "    </tr>\n",
              "    <tr>\n",
              "      <th>...</th>\n",
              "      <td>...</td>\n",
              "      <td>...</td>\n",
              "      <td>...</td>\n",
              "    </tr>\n",
              "    <tr>\n",
              "      <th>1432</th>\n",
              "      <td>11938</td>\n",
              "      <td>126</td>\n",
              "      <td>0 days 07:25:16.666666666</td>\n",
              "    </tr>\n",
              "    <tr>\n",
              "      <th>1433</th>\n",
              "      <td>12124</td>\n",
              "      <td>1064</td>\n",
              "      <td>0 days 17:10:00</td>\n",
              "    </tr>\n",
              "    <tr>\n",
              "      <th>1434</th>\n",
              "      <td>12166</td>\n",
              "      <td>857</td>\n",
              "      <td>0 days 21:55:00</td>\n",
              "    </tr>\n",
              "    <tr>\n",
              "      <th>1435</th>\n",
              "      <td>12190</td>\n",
              "      <td>639</td>\n",
              "      <td>0 days 01:28:53.333333333</td>\n",
              "    </tr>\n",
              "    <tr>\n",
              "      <th>1436</th>\n",
              "      <td>12190</td>\n",
              "      <td>8937</td>\n",
              "      <td>0 days 09:10:00</td>\n",
              "    </tr>\n",
              "  </tbody>\n",
              "</table>\n",
              "<p>1437 rows × 3 columns</p>\n",
              "</div>"
            ],
            "text/plain": [
              "      o_city  d_city                     duree\n",
              "0          5      23           0 days 10:18:48\n",
              "1          6     227           0 days 13:42:30\n",
              "2          6     504           0 days 08:17:24\n",
              "3          6     628           0 days 12:10:00\n",
              "4          6     845 0 days 01:19:54.626865671\n",
              "...      ...     ...                       ...\n",
              "1432   11938     126 0 days 07:25:16.666666666\n",
              "1433   12124    1064           0 days 17:10:00\n",
              "1434   12166     857           0 days 21:55:00\n",
              "1435   12190     639 0 days 01:28:53.333333333\n",
              "1436   12190    8937           0 days 09:10:00\n",
              "\n",
              "[1437 rows x 3 columns]"
            ]
          },
          "metadata": {
            "tags": []
          },
          "execution_count": 302
        }
      ]
    },
    {
      "cell_type": "markdown",
      "metadata": {
        "id": "NJ96WJtDDOKR"
      },
      "source": [
        "# différence de prix moyen et durée selon le train, le bus et le covoit selon la distance du trajet (0-200km, 201-800km, 800-2000km, 2000+km) "
      ]
    },
    {
      "cell_type": "code",
      "metadata": {
        "colab": {
          "base_uri": "https://localhost:8080/",
          "height": 161
        },
        "id": "bf6wR9dQEFLs",
        "outputId": "cc43f83c-300a-4d76-d0cd-8cb6900d95fa"
      },
      "source": [
        "ticket_data.sample(2)"
      ],
      "execution_count": null,
      "outputs": [
        {
          "output_type": "execute_result",
          "data": {
            "text/html": [
              "<div>\n",
              "<style scoped>\n",
              "    .dataframe tbody tr th:only-of-type {\n",
              "        vertical-align: middle;\n",
              "    }\n",
              "\n",
              "    .dataframe tbody tr th {\n",
              "        vertical-align: top;\n",
              "    }\n",
              "\n",
              "    .dataframe thead th {\n",
              "        text-align: right;\n",
              "    }\n",
              "</style>\n",
              "<table border=\"1\" class=\"dataframe\">\n",
              "  <thead>\n",
              "    <tr style=\"text-align: right;\">\n",
              "      <th></th>\n",
              "      <th>id</th>\n",
              "      <th>company</th>\n",
              "      <th>o_station</th>\n",
              "      <th>d_station</th>\n",
              "      <th>departure_ts</th>\n",
              "      <th>arrival_ts</th>\n",
              "      <th>price_in_cents</th>\n",
              "      <th>search_ts</th>\n",
              "      <th>middle_stations</th>\n",
              "      <th>other_companies</th>\n",
              "      <th>o_city</th>\n",
              "      <th>d_city</th>\n",
              "      <th>duree</th>\n",
              "      <th>distance</th>\n",
              "      <th>distance_category</th>\n",
              "      <th>transport_type</th>\n",
              "    </tr>\n",
              "  </thead>\n",
              "  <tbody>\n",
              "    <tr>\n",
              "      <th>35726</th>\n",
              "      <td>6830751</td>\n",
              "      <td>8385</td>\n",
              "      <td>NaN</td>\n",
              "      <td>NaN</td>\n",
              "      <td>2017-10-15 16:00:00+00:00</td>\n",
              "      <td>2017-10-15 19:40:00+00:00</td>\n",
              "      <td>2650</td>\n",
              "      <td>2017-10-10 08:03:25.414+00</td>\n",
              "      <td>NaN</td>\n",
              "      <td>NaN</td>\n",
              "      <td>562</td>\n",
              "      <td>126</td>\n",
              "      <td>0 days 03:40:00</td>\n",
              "      <td>278.279191</td>\n",
              "      <td>201-800km</td>\n",
              "      <td>carpooling</td>\n",
              "    </tr>\n",
              "    <tr>\n",
              "      <th>2058</th>\n",
              "      <td>6797083</td>\n",
              "      <td>13</td>\n",
              "      <td>60.0</td>\n",
              "      <td>861.0</td>\n",
              "      <td>2017-10-19 17:20:00+00:00</td>\n",
              "      <td>2017-10-20 15:35:00+00:00</td>\n",
              "      <td>2300</td>\n",
              "      <td>2017-10-01 20:30:12.222+00</td>\n",
              "      <td>{860,860}</td>\n",
              "      <td>{9}</td>\n",
              "      <td>30</td>\n",
              "      <td>542</td>\n",
              "      <td>0 days 22:15:00</td>\n",
              "      <td>376.253549</td>\n",
              "      <td>201-800km</td>\n",
              "      <td>bus</td>\n",
              "    </tr>\n",
              "  </tbody>\n",
              "</table>\n",
              "</div>"
            ],
            "text/plain": [
              "            id  company  o_station  ...    distance distance_category transport_type\n",
              "35726  6830751     8385        NaN  ...  278.279191         201-800km     carpooling\n",
              "2058   6797083       13       60.0  ...  376.253549         201-800km            bus\n",
              "\n",
              "[2 rows x 16 columns]"
            ]
          },
          "metadata": {
            "tags": []
          },
          "execution_count": 329
        }
      ]
    },
    {
      "cell_type": "code",
      "metadata": {
        "colab": {
          "base_uri": "https://localhost:8080/",
          "height": 108
        },
        "id": "oQuSyg9pHjpx",
        "outputId": "7e143cc4-8db8-46bd-9b92-e15c3d265b6c"
      },
      "source": [
        "cities.sample(2)"
      ],
      "execution_count": null,
      "outputs": [
        {
          "output_type": "execute_result",
          "data": {
            "text/html": [
              "<div>\n",
              "<style scoped>\n",
              "    .dataframe tbody tr th:only-of-type {\n",
              "        vertical-align: middle;\n",
              "    }\n",
              "\n",
              "    .dataframe tbody tr th {\n",
              "        vertical-align: top;\n",
              "    }\n",
              "\n",
              "    .dataframe thead th {\n",
              "        text-align: right;\n",
              "    }\n",
              "</style>\n",
              "<table border=\"1\" class=\"dataframe\">\n",
              "  <thead>\n",
              "    <tr style=\"text-align: right;\">\n",
              "      <th></th>\n",
              "      <th>id</th>\n",
              "      <th>local_name</th>\n",
              "      <th>unique_name</th>\n",
              "      <th>latitude</th>\n",
              "      <th>longitude</th>\n",
              "      <th>population</th>\n",
              "    </tr>\n",
              "  </thead>\n",
              "  <tbody>\n",
              "    <tr>\n",
              "      <th>3204</th>\n",
              "      <td>8849</td>\n",
              "      <td>Singen Hohentwiel, Baden-Württemberg, Deutschland</td>\n",
              "      <td>singen-hohentwiel</td>\n",
              "      <td>47.75907</td>\n",
              "      <td>8.83993</td>\n",
              "      <td>NaN</td>\n",
              "    </tr>\n",
              "    <tr>\n",
              "      <th>2199</th>\n",
              "      <td>8201</td>\n",
              "      <td>Pradelles, Auvergne-Rhône-Alpes, France</td>\n",
              "      <td>pradelles</td>\n",
              "      <td>44.76960</td>\n",
              "      <td>3.88199</td>\n",
              "      <td>NaN</td>\n",
              "    </tr>\n",
              "  </tbody>\n",
              "</table>\n",
              "</div>"
            ],
            "text/plain": [
              "        id  ... population\n",
              "3204  8849  ...        NaN\n",
              "2199  8201  ...        NaN\n",
              "\n",
              "[2 rows x 6 columns]"
            ]
          },
          "metadata": {
            "tags": []
          },
          "execution_count": 330
        }
      ]
    },
    {
      "cell_type": "markdown",
      "metadata": {
        "id": "4UB05GASRrJn"
      },
      "source": [
        "### Calculer la distance"
      ]
    },
    {
      "cell_type": "code",
      "metadata": {
        "id": "Hi9syzVDESfb"
      },
      "source": [
        "import geopy.distance\n",
        "\n",
        "# this function get two stations and return the distance between them\n",
        "def calculate_distance(city1, city2):\n",
        "\n",
        "  lat1 = cities[cities.id == city1].latitude.item()\n",
        "  lat2 = cities[cities.id == city2].latitude.item()\n",
        "  long1 = cities[cities.id == city1].longitude.item()\n",
        "  long2 = cities[cities.id == city2].longitude.item()\n",
        "\n",
        "  coords_1 = (lat1, long1)\n",
        "  coords_2 = (lat2, long2)\n",
        "\n",
        "  return geopy.distance.vincenty(coords_1, coords_2).km"
      ],
      "execution_count": null,
      "outputs": []
    },
    {
      "cell_type": "code",
      "metadata": {
        "colab": {
          "base_uri": "https://localhost:8080/"
        },
        "id": "q1X-sNfiLm4a",
        "outputId": "4897b62f-ff7d-44e2-acbf-e3783fae9763"
      },
      "source": [
        "from tqdm import tqdm\n",
        "\n",
        "col = [calculate_distance(row[0], row[1]) for row in tqdm(ticket_data[['o_city', 'd_city']].to_numpy()) ]"
      ],
      "execution_count": null,
      "outputs": [
        {
          "output_type": "stream",
          "text": [
            "100%|██████████| 74168/74168 [04:03<00:00, 304.67it/s]\n"
          ],
          "name": "stderr"
        }
      ]
    },
    {
      "cell_type": "code",
      "metadata": {
        "id": "nbyAGt9TQJyt"
      },
      "source": [
        "ticket_data[\"distance\"] = col"
      ],
      "execution_count": null,
      "outputs": []
    },
    {
      "cell_type": "code",
      "metadata": {
        "colab": {
          "base_uri": "https://localhost:8080/",
          "height": 207
        },
        "id": "QDZe2YdxNq0v",
        "outputId": "2e4a077a-b3f4-4ab0-a49e-f709193b2ebd"
      },
      "source": [
        "ticket_data.sample(3)"
      ],
      "execution_count": null,
      "outputs": [
        {
          "output_type": "execute_result",
          "data": {
            "text/html": [
              "<div>\n",
              "<style scoped>\n",
              "    .dataframe tbody tr th:only-of-type {\n",
              "        vertical-align: middle;\n",
              "    }\n",
              "\n",
              "    .dataframe tbody tr th {\n",
              "        vertical-align: top;\n",
              "    }\n",
              "\n",
              "    .dataframe thead th {\n",
              "        text-align: right;\n",
              "    }\n",
              "</style>\n",
              "<table border=\"1\" class=\"dataframe\">\n",
              "  <thead>\n",
              "    <tr style=\"text-align: right;\">\n",
              "      <th></th>\n",
              "      <th>id</th>\n",
              "      <th>company</th>\n",
              "      <th>o_station</th>\n",
              "      <th>d_station</th>\n",
              "      <th>departure_ts</th>\n",
              "      <th>arrival_ts</th>\n",
              "      <th>price_in_cents</th>\n",
              "      <th>search_ts</th>\n",
              "      <th>middle_stations</th>\n",
              "      <th>other_companies</th>\n",
              "      <th>o_city</th>\n",
              "      <th>d_city</th>\n",
              "      <th>duree</th>\n",
              "      <th>distance</th>\n",
              "    </tr>\n",
              "  </thead>\n",
              "  <tbody>\n",
              "    <tr>\n",
              "      <th>12514</th>\n",
              "      <td>6807539</td>\n",
              "      <td>8385</td>\n",
              "      <td>NaN</td>\n",
              "      <td>NaN</td>\n",
              "      <td>2017-10-08 09:10:00+00:00</td>\n",
              "      <td>2017-10-08 12:20:00+00:00</td>\n",
              "      <td>2300</td>\n",
              "      <td>2017-10-04 20:08:28.545+00</td>\n",
              "      <td>NaN</td>\n",
              "      <td>NaN</td>\n",
              "      <td>845</td>\n",
              "      <td>109</td>\n",
              "      <td>0 days 03:10:00</td>\n",
              "      <td>243.729633</td>\n",
              "    </tr>\n",
              "    <tr>\n",
              "      <th>60981</th>\n",
              "      <td>6855993</td>\n",
              "      <td>8385</td>\n",
              "      <td>NaN</td>\n",
              "      <td>NaN</td>\n",
              "      <td>2017-10-19 16:10:00+00:00</td>\n",
              "      <td>2017-10-19 20:10:00+00:00</td>\n",
              "      <td>2650</td>\n",
              "      <td>2017-10-16 19:03:56.119+00</td>\n",
              "      <td>NaN</td>\n",
              "      <td>NaN</td>\n",
              "      <td>562</td>\n",
              "      <td>628</td>\n",
              "      <td>0 days 04:00:00</td>\n",
              "      <td>339.046766</td>\n",
              "    </tr>\n",
              "    <tr>\n",
              "      <th>63647</th>\n",
              "      <td>6858672</td>\n",
              "      <td>8380</td>\n",
              "      <td>860.0</td>\n",
              "      <td>436.0</td>\n",
              "      <td>2017-10-18 22:35:00+00:00</td>\n",
              "      <td>2017-10-19 08:09:00+00:00</td>\n",
              "      <td>2750</td>\n",
              "      <td>2017-10-17 15:13:16.973+00</td>\n",
              "      <td>{4122,4122}</td>\n",
              "      <td>{8380}</td>\n",
              "      <td>126</td>\n",
              "      <td>213</td>\n",
              "      <td>0 days 09:34:00</td>\n",
              "      <td>129.407191</td>\n",
              "    </tr>\n",
              "  </tbody>\n",
              "</table>\n",
              "</div>"
            ],
            "text/plain": [
              "            id  company  o_station  ...  d_city           duree    distance\n",
              "12514  6807539     8385        NaN  ...     109 0 days 03:10:00  243.729633\n",
              "60981  6855993     8385        NaN  ...     628 0 days 04:00:00  339.046766\n",
              "63647  6858672     8380      860.0  ...     213 0 days 09:34:00  129.407191\n",
              "\n",
              "[3 rows x 14 columns]"
            ]
          },
          "metadata": {
            "tags": []
          },
          "execution_count": 313
        }
      ]
    },
    {
      "cell_type": "markdown",
      "metadata": {
        "id": "ZAOUmLHjRvCp"
      },
      "source": [
        "### Calculer la category"
      ]
    },
    {
      "cell_type": "code",
      "metadata": {
        "id": "atsR-4xaQ9r2"
      },
      "source": [
        "ticket_data.loc[ ticket_data.distance < 200, 'distance_category'] = \"0-200km\"\n",
        "\n",
        "ticket_data.loc[ (ticket_data.distance > 200) & (ticket_data.distance < 800), 'distance_category'] = \"201-800km\"\n",
        "\n",
        "ticket_data.loc[ (ticket_data.distance > 800) & (ticket_data.distance < 2000), 'distance_category'] = \"800-2000km\"\n",
        "\n",
        "ticket_data.loc[ ticket_data.distance > 2000, 'distance_category'] = \"2000+km\""
      ],
      "execution_count": null,
      "outputs": []
    },
    {
      "cell_type": "code",
      "metadata": {
        "colab": {
          "base_uri": "https://localhost:8080/",
          "height": 591
        },
        "id": "kBKnOwnJb1c1",
        "outputId": "e16c3eaa-1d75-4deb-b086-08755a47aa90"
      },
      "source": [
        "ticket_data"
      ],
      "execution_count": null,
      "outputs": [
        {
          "output_type": "execute_result",
          "data": {
            "text/html": [
              "<div>\n",
              "<style scoped>\n",
              "    .dataframe tbody tr th:only-of-type {\n",
              "        vertical-align: middle;\n",
              "    }\n",
              "\n",
              "    .dataframe tbody tr th {\n",
              "        vertical-align: top;\n",
              "    }\n",
              "\n",
              "    .dataframe thead th {\n",
              "        text-align: right;\n",
              "    }\n",
              "</style>\n",
              "<table border=\"1\" class=\"dataframe\">\n",
              "  <thead>\n",
              "    <tr style=\"text-align: right;\">\n",
              "      <th></th>\n",
              "      <th>id</th>\n",
              "      <th>company</th>\n",
              "      <th>o_station</th>\n",
              "      <th>d_station</th>\n",
              "      <th>departure_ts</th>\n",
              "      <th>arrival_ts</th>\n",
              "      <th>price_in_cents</th>\n",
              "      <th>search_ts</th>\n",
              "      <th>middle_stations</th>\n",
              "      <th>other_companies</th>\n",
              "      <th>o_city</th>\n",
              "      <th>d_city</th>\n",
              "      <th>duree</th>\n",
              "      <th>distance</th>\n",
              "      <th>distance_category</th>\n",
              "    </tr>\n",
              "  </thead>\n",
              "  <tbody>\n",
              "    <tr>\n",
              "      <th>0</th>\n",
              "      <td>6795025</td>\n",
              "      <td>8385</td>\n",
              "      <td>NaN</td>\n",
              "      <td>NaN</td>\n",
              "      <td>2017-10-13 14:00:00+00:00</td>\n",
              "      <td>2017-10-13 20:10:00+00:00</td>\n",
              "      <td>4550</td>\n",
              "      <td>2017-10-01 00:13:31.327+00</td>\n",
              "      <td>NaN</td>\n",
              "      <td>NaN</td>\n",
              "      <td>611</td>\n",
              "      <td>542</td>\n",
              "      <td>0 days 06:10:00</td>\n",
              "      <td>503.136831</td>\n",
              "      <td>201-800km</td>\n",
              "    </tr>\n",
              "    <tr>\n",
              "      <th>1</th>\n",
              "      <td>6795026</td>\n",
              "      <td>9</td>\n",
              "      <td>63.0</td>\n",
              "      <td>1044.0</td>\n",
              "      <td>2017-10-13 13:05:00+00:00</td>\n",
              "      <td>2017-10-14 06:55:00+00:00</td>\n",
              "      <td>1450</td>\n",
              "      <td>2017-10-01 00:13:35.773+00</td>\n",
              "      <td>{149,418}</td>\n",
              "      <td>{13}</td>\n",
              "      <td>611</td>\n",
              "      <td>542</td>\n",
              "      <td>0 days 17:50:00</td>\n",
              "      <td>503.136831</td>\n",
              "      <td>201-800km</td>\n",
              "    </tr>\n",
              "    <tr>\n",
              "      <th>2</th>\n",
              "      <td>6795027</td>\n",
              "      <td>8377</td>\n",
              "      <td>5905.0</td>\n",
              "      <td>6495.0</td>\n",
              "      <td>2017-10-13 13:27:00+00:00</td>\n",
              "      <td>2017-10-14 21:24:00+00:00</td>\n",
              "      <td>7400</td>\n",
              "      <td>2017-10-01 00:13:40.212+00</td>\n",
              "      <td>{798,798,6794,6246}</td>\n",
              "      <td>{8377,8376}</td>\n",
              "      <td>611</td>\n",
              "      <td>542</td>\n",
              "      <td>1 days 07:57:00</td>\n",
              "      <td>503.136831</td>\n",
              "      <td>201-800km</td>\n",
              "    </tr>\n",
              "    <tr>\n",
              "      <th>3</th>\n",
              "      <td>6795028</td>\n",
              "      <td>8377</td>\n",
              "      <td>5905.0</td>\n",
              "      <td>6495.0</td>\n",
              "      <td>2017-10-13 13:27:00+00:00</td>\n",
              "      <td>2017-10-14 11:02:00+00:00</td>\n",
              "      <td>13500</td>\n",
              "      <td>2017-10-01 00:13:40.213+00</td>\n",
              "      <td>{798,798,6794,6246}</td>\n",
              "      <td>{8377,8376}</td>\n",
              "      <td>611</td>\n",
              "      <td>542</td>\n",
              "      <td>0 days 21:35:00</td>\n",
              "      <td>503.136831</td>\n",
              "      <td>201-800km</td>\n",
              "    </tr>\n",
              "    <tr>\n",
              "      <th>4</th>\n",
              "      <td>6795029</td>\n",
              "      <td>8381</td>\n",
              "      <td>5905.0</td>\n",
              "      <td>6495.0</td>\n",
              "      <td>2017-10-13 21:46:00+00:00</td>\n",
              "      <td>2017-10-14 19:32:00+00:00</td>\n",
              "      <td>7710</td>\n",
              "      <td>2017-10-01 00:13:40.213+00</td>\n",
              "      <td>{5983,5983}</td>\n",
              "      <td>{8380}</td>\n",
              "      <td>611</td>\n",
              "      <td>542</td>\n",
              "      <td>0 days 21:46:00</td>\n",
              "      <td>503.136831</td>\n",
              "      <td>201-800km</td>\n",
              "    </tr>\n",
              "    <tr>\n",
              "      <th>...</th>\n",
              "      <td>...</td>\n",
              "      <td>...</td>\n",
              "      <td>...</td>\n",
              "      <td>...</td>\n",
              "      <td>...</td>\n",
              "      <td>...</td>\n",
              "      <td>...</td>\n",
              "      <td>...</td>\n",
              "      <td>...</td>\n",
              "      <td>...</td>\n",
              "      <td>...</td>\n",
              "      <td>...</td>\n",
              "      <td>...</td>\n",
              "      <td>...</td>\n",
              "      <td>...</td>\n",
              "    </tr>\n",
              "    <tr>\n",
              "      <th>74163</th>\n",
              "      <td>6869182</td>\n",
              "      <td>13</td>\n",
              "      <td>279.0</td>\n",
              "      <td>10729.0</td>\n",
              "      <td>2017-10-27 02:30:00+00:00</td>\n",
              "      <td>2017-10-27 16:00:00+00:00</td>\n",
              "      <td>2590</td>\n",
              "      <td>2017-10-19 10:35:42.943+00</td>\n",
              "      <td>{408,408}</td>\n",
              "      <td>{8371}</td>\n",
              "      <td>628</td>\n",
              "      <td>562</td>\n",
              "      <td>0 days 13:30:00</td>\n",
              "      <td>339.046766</td>\n",
              "      <td>201-800km</td>\n",
              "    </tr>\n",
              "    <tr>\n",
              "      <th>74164</th>\n",
              "      <td>6869185</td>\n",
              "      <td>9</td>\n",
              "      <td>279.0</td>\n",
              "      <td>304.0</td>\n",
              "      <td>2017-10-27 07:00:00+00:00</td>\n",
              "      <td>2017-10-27 13:30:00+00:00</td>\n",
              "      <td>2700</td>\n",
              "      <td>2017-10-19 10:35:42.943+00</td>\n",
              "      <td>{1105,1105}</td>\n",
              "      <td>{9}</td>\n",
              "      <td>628</td>\n",
              "      <td>562</td>\n",
              "      <td>0 days 06:30:00</td>\n",
              "      <td>339.046766</td>\n",
              "      <td>201-800km</td>\n",
              "    </tr>\n",
              "    <tr>\n",
              "      <th>74165</th>\n",
              "      <td>6869187</td>\n",
              "      <td>8371</td>\n",
              "      <td>10642.0</td>\n",
              "      <td>304.0</td>\n",
              "      <td>2017-10-27 08:30:00+00:00</td>\n",
              "      <td>2017-10-27 15:15:00+00:00</td>\n",
              "      <td>3000</td>\n",
              "      <td>2017-10-19 10:35:42.943+00</td>\n",
              "      <td>{1105,1105}</td>\n",
              "      <td>{9}</td>\n",
              "      <td>628</td>\n",
              "      <td>562</td>\n",
              "      <td>0 days 06:45:00</td>\n",
              "      <td>339.046766</td>\n",
              "      <td>201-800km</td>\n",
              "    </tr>\n",
              "    <tr>\n",
              "      <th>74166</th>\n",
              "      <td>6869189</td>\n",
              "      <td>13</td>\n",
              "      <td>279.0</td>\n",
              "      <td>304.0</td>\n",
              "      <td>2017-10-27 13:25:00+00:00</td>\n",
              "      <td>2017-10-27 21:10:00+00:00</td>\n",
              "      <td>2880</td>\n",
              "      <td>2017-10-19 10:35:42.943+00</td>\n",
              "      <td>{863,863}</td>\n",
              "      <td>{13}</td>\n",
              "      <td>628</td>\n",
              "      <td>562</td>\n",
              "      <td>0 days 07:45:00</td>\n",
              "      <td>339.046766</td>\n",
              "      <td>201-800km</td>\n",
              "    </tr>\n",
              "    <tr>\n",
              "      <th>74167</th>\n",
              "      <td>6869191</td>\n",
              "      <td>8371</td>\n",
              "      <td>10642.0</td>\n",
              "      <td>10729.0</td>\n",
              "      <td>2017-10-27 14:45:00+00:00</td>\n",
              "      <td>2017-10-27 21:40:00+00:00</td>\n",
              "      <td>2000</td>\n",
              "      <td>2017-10-19 10:35:42.943+00</td>\n",
              "      <td>{863,863}</td>\n",
              "      <td>{8371}</td>\n",
              "      <td>628</td>\n",
              "      <td>562</td>\n",
              "      <td>0 days 06:55:00</td>\n",
              "      <td>339.046766</td>\n",
              "      <td>201-800km</td>\n",
              "    </tr>\n",
              "  </tbody>\n",
              "</table>\n",
              "<p>74168 rows × 15 columns</p>\n",
              "</div>"
            ],
            "text/plain": [
              "            id  company  ...    distance  distance_category\n",
              "0      6795025     8385  ...  503.136831          201-800km\n",
              "1      6795026        9  ...  503.136831          201-800km\n",
              "2      6795027     8377  ...  503.136831          201-800km\n",
              "3      6795028     8377  ...  503.136831          201-800km\n",
              "4      6795029     8381  ...  503.136831          201-800km\n",
              "...        ...      ...  ...         ...                ...\n",
              "74163  6869182       13  ...  339.046766          201-800km\n",
              "74164  6869185        9  ...  339.046766          201-800km\n",
              "74165  6869187     8371  ...  339.046766          201-800km\n",
              "74166  6869189       13  ...  339.046766          201-800km\n",
              "74167  6869191     8371  ...  339.046766          201-800km\n",
              "\n",
              "[74168 rows x 15 columns]"
            ]
          },
          "metadata": {
            "tags": []
          },
          "execution_count": 317
        }
      ]
    },
    {
      "cell_type": "markdown",
      "metadata": {
        "id": "dY5G_ta7SzgJ"
      },
      "source": [
        "### Definir le type de transport pour chaque ticket"
      ]
    },
    {
      "cell_type": "code",
      "metadata": {
        "colab": {
          "base_uri": "https://localhost:8080/",
          "height": 408
        },
        "id": "sRYL2rzQTGGa",
        "outputId": "80302a45-9756-4988-dbb6-735bf11070a0"
      },
      "source": [
        "providers"
      ],
      "execution_count": null,
      "outputs": [
        {
          "output_type": "execute_result",
          "data": {
            "text/html": [
              "<div>\n",
              "<style scoped>\n",
              "    .dataframe tbody tr th:only-of-type {\n",
              "        vertical-align: middle;\n",
              "    }\n",
              "\n",
              "    .dataframe tbody tr th {\n",
              "        vertical-align: top;\n",
              "    }\n",
              "\n",
              "    .dataframe thead th {\n",
              "        text-align: right;\n",
              "    }\n",
              "</style>\n",
              "<table border=\"1\" class=\"dataframe\">\n",
              "  <thead>\n",
              "    <tr style=\"text-align: right;\">\n",
              "      <th></th>\n",
              "      <th>id</th>\n",
              "      <th>company_id</th>\n",
              "      <th>provider_id</th>\n",
              "      <th>name</th>\n",
              "      <th>fullname</th>\n",
              "      <th>has_wifi</th>\n",
              "      <th>has_plug</th>\n",
              "      <th>has_adjustable_seats</th>\n",
              "      <th>has_bicycle</th>\n",
              "      <th>transport_type</th>\n",
              "    </tr>\n",
              "  </thead>\n",
              "  <tbody>\n",
              "    <tr>\n",
              "      <th>0</th>\n",
              "      <td>9</td>\n",
              "      <td>1</td>\n",
              "      <td>NaN</td>\n",
              "      <td>ouibus</td>\n",
              "      <td>Ouibus</td>\n",
              "      <td>True</td>\n",
              "      <td>True</td>\n",
              "      <td>True</td>\n",
              "      <td>False</td>\n",
              "      <td>bus</td>\n",
              "    </tr>\n",
              "    <tr>\n",
              "      <th>1</th>\n",
              "      <td>10</td>\n",
              "      <td>2</td>\n",
              "      <td>NaN</td>\n",
              "      <td>deinbus</td>\n",
              "      <td>Deinbus.de</td>\n",
              "      <td>False</td>\n",
              "      <td>False</td>\n",
              "      <td>False</td>\n",
              "      <td>False</td>\n",
              "      <td>bus</td>\n",
              "    </tr>\n",
              "    <tr>\n",
              "      <th>2</th>\n",
              "      <td>11</td>\n",
              "      <td>3</td>\n",
              "      <td>NaN</td>\n",
              "      <td>infobus</td>\n",
              "      <td>Infobus</td>\n",
              "      <td>False</td>\n",
              "      <td>False</td>\n",
              "      <td>False</td>\n",
              "      <td>False</td>\n",
              "      <td>bus</td>\n",
              "    </tr>\n",
              "    <tr>\n",
              "      <th>3</th>\n",
              "      <td>12</td>\n",
              "      <td>4</td>\n",
              "      <td>NaN</td>\n",
              "      <td>studentAgency</td>\n",
              "      <td>Student Agency</td>\n",
              "      <td>False</td>\n",
              "      <td>False</td>\n",
              "      <td>False</td>\n",
              "      <td>False</td>\n",
              "      <td>bus</td>\n",
              "    </tr>\n",
              "    <tr>\n",
              "      <th>4</th>\n",
              "      <td>13</td>\n",
              "      <td>5</td>\n",
              "      <td>NaN</td>\n",
              "      <td>flixbus</td>\n",
              "      <td>Flixbus</td>\n",
              "      <td>True</td>\n",
              "      <td>False</td>\n",
              "      <td>False</td>\n",
              "      <td>False</td>\n",
              "      <td>bus</td>\n",
              "    </tr>\n",
              "    <tr>\n",
              "      <th>...</th>\n",
              "      <td>...</td>\n",
              "      <td>...</td>\n",
              "      <td>...</td>\n",
              "      <td>...</td>\n",
              "      <td>...</td>\n",
              "      <td>...</td>\n",
              "      <td>...</td>\n",
              "      <td>...</td>\n",
              "      <td>...</td>\n",
              "      <td>...</td>\n",
              "    </tr>\n",
              "    <tr>\n",
              "      <th>222</th>\n",
              "      <td>8384</td>\n",
              "      <td>10</td>\n",
              "      <td>16</td>\n",
              "      <td>thalys</td>\n",
              "      <td>Thalys</td>\n",
              "      <td>True</td>\n",
              "      <td>True</td>\n",
              "      <td>False</td>\n",
              "      <td>True</td>\n",
              "      <td>train</td>\n",
              "    </tr>\n",
              "    <tr>\n",
              "      <th>223</th>\n",
              "      <td>8385</td>\n",
              "      <td>11</td>\n",
              "      <td>NaN</td>\n",
              "      <td>bbc</td>\n",
              "      <td>Blablacar</td>\n",
              "      <td>False</td>\n",
              "      <td>False</td>\n",
              "      <td>False</td>\n",
              "      <td>False</td>\n",
              "      <td>carpooling</td>\n",
              "    </tr>\n",
              "    <tr>\n",
              "      <th>224</th>\n",
              "      <td>8387</td>\n",
              "      <td>30</td>\n",
              "      <td>NaN</td>\n",
              "      <td>vatry</td>\n",
              "      <td>Vatry</td>\n",
              "      <td>NaN</td>\n",
              "      <td>NaN</td>\n",
              "      <td>NaN</td>\n",
              "      <td>NaN</td>\n",
              "      <td>bus</td>\n",
              "    </tr>\n",
              "    <tr>\n",
              "      <th>225</th>\n",
              "      <td>8388</td>\n",
              "      <td>40</td>\n",
              "      <td>NaN</td>\n",
              "      <td>beauval</td>\n",
              "      <td>Beauval</td>\n",
              "      <td>NaN</td>\n",
              "      <td>NaN</td>\n",
              "      <td>NaN</td>\n",
              "      <td>NaN</td>\n",
              "      <td>bus</td>\n",
              "    </tr>\n",
              "    <tr>\n",
              "      <th>226</th>\n",
              "      <td>8389</td>\n",
              "      <td>12</td>\n",
              "      <td>NaN</td>\n",
              "      <td>idvroom</td>\n",
              "      <td>idVroom</td>\n",
              "      <td>False</td>\n",
              "      <td>False</td>\n",
              "      <td>False</td>\n",
              "      <td>False</td>\n",
              "      <td>carpooling</td>\n",
              "    </tr>\n",
              "  </tbody>\n",
              "</table>\n",
              "<p>227 rows × 10 columns</p>\n",
              "</div>"
            ],
            "text/plain": [
              "       id  company_id  ... has_bicycle transport_type\n",
              "0       9           1  ...       False            bus\n",
              "1      10           2  ...       False            bus\n",
              "2      11           3  ...       False            bus\n",
              "3      12           4  ...       False            bus\n",
              "4      13           5  ...       False            bus\n",
              "..    ...         ...  ...         ...            ...\n",
              "222  8384          10  ...        True          train\n",
              "223  8385          11  ...       False     carpooling\n",
              "224  8387          30  ...         NaN            bus\n",
              "225  8388          40  ...         NaN            bus\n",
              "226  8389          12  ...       False     carpooling\n",
              "\n",
              "[227 rows x 10 columns]"
            ]
          },
          "metadata": {
            "tags": []
          },
          "execution_count": 318
        }
      ]
    },
    {
      "cell_type": "code",
      "metadata": {
        "colab": {
          "base_uri": "https://localhost:8080/"
        },
        "id": "N8id7IwHTgXH",
        "outputId": "607df590-ff45-4796-a3ae-9d9d1d129786"
      },
      "source": [
        "providers[ providers.id == 9].transport_type.value_counts()"
      ],
      "execution_count": null,
      "outputs": [
        {
          "output_type": "execute_result",
          "data": {
            "text/plain": [
              "bus    1\n",
              "Name: transport_type, dtype: int64"
            ]
          },
          "metadata": {
            "tags": []
          },
          "execution_count": 320
        }
      ]
    },
    {
      "cell_type": "code",
      "metadata": {
        "colab": {
          "base_uri": "https://localhost:8080/"
        },
        "id": "JB_akaOfTXqg",
        "outputId": "c757e979-f533-4c36-f483-203c7076be9c"
      },
      "source": [
        "col = [ providers[ providers.id == id].transport_type.item() for id in tqdm(ticket_data[\"company\"])]"
      ],
      "execution_count": null,
      "outputs": [
        {
          "output_type": "stream",
          "text": [
            "100%|██████████| 74168/74168 [00:48<00:00, 1535.75it/s]\n"
          ],
          "name": "stderr"
        }
      ]
    },
    {
      "cell_type": "code",
      "metadata": {
        "id": "6cJ6AjzhcpEb"
      },
      "source": [
        "ticket_data['transport_type'] = col"
      ],
      "execution_count": null,
      "outputs": []
    },
    {
      "cell_type": "code",
      "metadata": {
        "colab": {
          "base_uri": "https://localhost:8080/",
          "height": 591
        },
        "id": "3PoI860Ec2RT",
        "outputId": "6433c81f-8440-4f37-ef5b-9f0fafaf4250"
      },
      "source": [
        "ticket_data"
      ],
      "execution_count": null,
      "outputs": [
        {
          "output_type": "execute_result",
          "data": {
            "text/html": [
              "<div>\n",
              "<style scoped>\n",
              "    .dataframe tbody tr th:only-of-type {\n",
              "        vertical-align: middle;\n",
              "    }\n",
              "\n",
              "    .dataframe tbody tr th {\n",
              "        vertical-align: top;\n",
              "    }\n",
              "\n",
              "    .dataframe thead th {\n",
              "        text-align: right;\n",
              "    }\n",
              "</style>\n",
              "<table border=\"1\" class=\"dataframe\">\n",
              "  <thead>\n",
              "    <tr style=\"text-align: right;\">\n",
              "      <th></th>\n",
              "      <th>id</th>\n",
              "      <th>company</th>\n",
              "      <th>o_station</th>\n",
              "      <th>d_station</th>\n",
              "      <th>departure_ts</th>\n",
              "      <th>arrival_ts</th>\n",
              "      <th>price_in_cents</th>\n",
              "      <th>search_ts</th>\n",
              "      <th>middle_stations</th>\n",
              "      <th>other_companies</th>\n",
              "      <th>o_city</th>\n",
              "      <th>d_city</th>\n",
              "      <th>duree</th>\n",
              "      <th>distance</th>\n",
              "      <th>distance_category</th>\n",
              "      <th>transport_type</th>\n",
              "    </tr>\n",
              "  </thead>\n",
              "  <tbody>\n",
              "    <tr>\n",
              "      <th>0</th>\n",
              "      <td>6795025</td>\n",
              "      <td>8385</td>\n",
              "      <td>NaN</td>\n",
              "      <td>NaN</td>\n",
              "      <td>2017-10-13 14:00:00+00:00</td>\n",
              "      <td>2017-10-13 20:10:00+00:00</td>\n",
              "      <td>4550</td>\n",
              "      <td>2017-10-01 00:13:31.327+00</td>\n",
              "      <td>NaN</td>\n",
              "      <td>NaN</td>\n",
              "      <td>611</td>\n",
              "      <td>542</td>\n",
              "      <td>0 days 06:10:00</td>\n",
              "      <td>503.136831</td>\n",
              "      <td>201-800km</td>\n",
              "      <td>carpooling</td>\n",
              "    </tr>\n",
              "    <tr>\n",
              "      <th>1</th>\n",
              "      <td>6795026</td>\n",
              "      <td>9</td>\n",
              "      <td>63.0</td>\n",
              "      <td>1044.0</td>\n",
              "      <td>2017-10-13 13:05:00+00:00</td>\n",
              "      <td>2017-10-14 06:55:00+00:00</td>\n",
              "      <td>1450</td>\n",
              "      <td>2017-10-01 00:13:35.773+00</td>\n",
              "      <td>{149,418}</td>\n",
              "      <td>{13}</td>\n",
              "      <td>611</td>\n",
              "      <td>542</td>\n",
              "      <td>0 days 17:50:00</td>\n",
              "      <td>503.136831</td>\n",
              "      <td>201-800km</td>\n",
              "      <td>bus</td>\n",
              "    </tr>\n",
              "    <tr>\n",
              "      <th>2</th>\n",
              "      <td>6795027</td>\n",
              "      <td>8377</td>\n",
              "      <td>5905.0</td>\n",
              "      <td>6495.0</td>\n",
              "      <td>2017-10-13 13:27:00+00:00</td>\n",
              "      <td>2017-10-14 21:24:00+00:00</td>\n",
              "      <td>7400</td>\n",
              "      <td>2017-10-01 00:13:40.212+00</td>\n",
              "      <td>{798,798,6794,6246}</td>\n",
              "      <td>{8377,8376}</td>\n",
              "      <td>611</td>\n",
              "      <td>542</td>\n",
              "      <td>1 days 07:57:00</td>\n",
              "      <td>503.136831</td>\n",
              "      <td>201-800km</td>\n",
              "      <td>train</td>\n",
              "    </tr>\n",
              "    <tr>\n",
              "      <th>3</th>\n",
              "      <td>6795028</td>\n",
              "      <td>8377</td>\n",
              "      <td>5905.0</td>\n",
              "      <td>6495.0</td>\n",
              "      <td>2017-10-13 13:27:00+00:00</td>\n",
              "      <td>2017-10-14 11:02:00+00:00</td>\n",
              "      <td>13500</td>\n",
              "      <td>2017-10-01 00:13:40.213+00</td>\n",
              "      <td>{798,798,6794,6246}</td>\n",
              "      <td>{8377,8376}</td>\n",
              "      <td>611</td>\n",
              "      <td>542</td>\n",
              "      <td>0 days 21:35:00</td>\n",
              "      <td>503.136831</td>\n",
              "      <td>201-800km</td>\n",
              "      <td>train</td>\n",
              "    </tr>\n",
              "    <tr>\n",
              "      <th>4</th>\n",
              "      <td>6795029</td>\n",
              "      <td>8381</td>\n",
              "      <td>5905.0</td>\n",
              "      <td>6495.0</td>\n",
              "      <td>2017-10-13 21:46:00+00:00</td>\n",
              "      <td>2017-10-14 19:32:00+00:00</td>\n",
              "      <td>7710</td>\n",
              "      <td>2017-10-01 00:13:40.213+00</td>\n",
              "      <td>{5983,5983}</td>\n",
              "      <td>{8380}</td>\n",
              "      <td>611</td>\n",
              "      <td>542</td>\n",
              "      <td>0 days 21:46:00</td>\n",
              "      <td>503.136831</td>\n",
              "      <td>201-800km</td>\n",
              "      <td>train</td>\n",
              "    </tr>\n",
              "    <tr>\n",
              "      <th>...</th>\n",
              "      <td>...</td>\n",
              "      <td>...</td>\n",
              "      <td>...</td>\n",
              "      <td>...</td>\n",
              "      <td>...</td>\n",
              "      <td>...</td>\n",
              "      <td>...</td>\n",
              "      <td>...</td>\n",
              "      <td>...</td>\n",
              "      <td>...</td>\n",
              "      <td>...</td>\n",
              "      <td>...</td>\n",
              "      <td>...</td>\n",
              "      <td>...</td>\n",
              "      <td>...</td>\n",
              "      <td>...</td>\n",
              "    </tr>\n",
              "    <tr>\n",
              "      <th>74163</th>\n",
              "      <td>6869182</td>\n",
              "      <td>13</td>\n",
              "      <td>279.0</td>\n",
              "      <td>10729.0</td>\n",
              "      <td>2017-10-27 02:30:00+00:00</td>\n",
              "      <td>2017-10-27 16:00:00+00:00</td>\n",
              "      <td>2590</td>\n",
              "      <td>2017-10-19 10:35:42.943+00</td>\n",
              "      <td>{408,408}</td>\n",
              "      <td>{8371}</td>\n",
              "      <td>628</td>\n",
              "      <td>562</td>\n",
              "      <td>0 days 13:30:00</td>\n",
              "      <td>339.046766</td>\n",
              "      <td>201-800km</td>\n",
              "      <td>bus</td>\n",
              "    </tr>\n",
              "    <tr>\n",
              "      <th>74164</th>\n",
              "      <td>6869185</td>\n",
              "      <td>9</td>\n",
              "      <td>279.0</td>\n",
              "      <td>304.0</td>\n",
              "      <td>2017-10-27 07:00:00+00:00</td>\n",
              "      <td>2017-10-27 13:30:00+00:00</td>\n",
              "      <td>2700</td>\n",
              "      <td>2017-10-19 10:35:42.943+00</td>\n",
              "      <td>{1105,1105}</td>\n",
              "      <td>{9}</td>\n",
              "      <td>628</td>\n",
              "      <td>562</td>\n",
              "      <td>0 days 06:30:00</td>\n",
              "      <td>339.046766</td>\n",
              "      <td>201-800km</td>\n",
              "      <td>bus</td>\n",
              "    </tr>\n",
              "    <tr>\n",
              "      <th>74165</th>\n",
              "      <td>6869187</td>\n",
              "      <td>8371</td>\n",
              "      <td>10642.0</td>\n",
              "      <td>304.0</td>\n",
              "      <td>2017-10-27 08:30:00+00:00</td>\n",
              "      <td>2017-10-27 15:15:00+00:00</td>\n",
              "      <td>3000</td>\n",
              "      <td>2017-10-19 10:35:42.943+00</td>\n",
              "      <td>{1105,1105}</td>\n",
              "      <td>{9}</td>\n",
              "      <td>628</td>\n",
              "      <td>562</td>\n",
              "      <td>0 days 06:45:00</td>\n",
              "      <td>339.046766</td>\n",
              "      <td>201-800km</td>\n",
              "      <td>bus</td>\n",
              "    </tr>\n",
              "    <tr>\n",
              "      <th>74166</th>\n",
              "      <td>6869189</td>\n",
              "      <td>13</td>\n",
              "      <td>279.0</td>\n",
              "      <td>304.0</td>\n",
              "      <td>2017-10-27 13:25:00+00:00</td>\n",
              "      <td>2017-10-27 21:10:00+00:00</td>\n",
              "      <td>2880</td>\n",
              "      <td>2017-10-19 10:35:42.943+00</td>\n",
              "      <td>{863,863}</td>\n",
              "      <td>{13}</td>\n",
              "      <td>628</td>\n",
              "      <td>562</td>\n",
              "      <td>0 days 07:45:00</td>\n",
              "      <td>339.046766</td>\n",
              "      <td>201-800km</td>\n",
              "      <td>bus</td>\n",
              "    </tr>\n",
              "    <tr>\n",
              "      <th>74167</th>\n",
              "      <td>6869191</td>\n",
              "      <td>8371</td>\n",
              "      <td>10642.0</td>\n",
              "      <td>10729.0</td>\n",
              "      <td>2017-10-27 14:45:00+00:00</td>\n",
              "      <td>2017-10-27 21:40:00+00:00</td>\n",
              "      <td>2000</td>\n",
              "      <td>2017-10-19 10:35:42.943+00</td>\n",
              "      <td>{863,863}</td>\n",
              "      <td>{8371}</td>\n",
              "      <td>628</td>\n",
              "      <td>562</td>\n",
              "      <td>0 days 06:55:00</td>\n",
              "      <td>339.046766</td>\n",
              "      <td>201-800km</td>\n",
              "      <td>bus</td>\n",
              "    </tr>\n",
              "  </tbody>\n",
              "</table>\n",
              "<p>74168 rows × 16 columns</p>\n",
              "</div>"
            ],
            "text/plain": [
              "            id  company  o_station  ...    distance distance_category transport_type\n",
              "0      6795025     8385        NaN  ...  503.136831         201-800km     carpooling\n",
              "1      6795026        9       63.0  ...  503.136831         201-800km            bus\n",
              "2      6795027     8377     5905.0  ...  503.136831         201-800km          train\n",
              "3      6795028     8377     5905.0  ...  503.136831         201-800km          train\n",
              "4      6795029     8381     5905.0  ...  503.136831         201-800km          train\n",
              "...        ...      ...        ...  ...         ...               ...            ...\n",
              "74163  6869182       13      279.0  ...  339.046766         201-800km            bus\n",
              "74164  6869185        9      279.0  ...  339.046766         201-800km            bus\n",
              "74165  6869187     8371    10642.0  ...  339.046766         201-800km            bus\n",
              "74166  6869189       13      279.0  ...  339.046766         201-800km            bus\n",
              "74167  6869191     8371    10642.0  ...  339.046766         201-800km            bus\n",
              "\n",
              "[74168 rows x 16 columns]"
            ]
          },
          "metadata": {
            "tags": []
          },
          "execution_count": 328
        }
      ]
    },
    {
      "cell_type": "markdown",
      "metadata": {
        "id": "3kM08skKdTUt"
      },
      "source": [
        "### Results: Grouping"
      ]
    },
    {
      "cell_type": "markdown",
      "metadata": {
        "id": "BxtdcmVHmDTM"
      },
      "source": [
        "#### Price"
      ]
    },
    {
      "cell_type": "code",
      "metadata": {
        "colab": {
          "base_uri": "https://localhost:8080/",
          "height": 115
        },
        "id": "sdGb80fbeCkt",
        "outputId": "5e00627a-c064-411b-b7db-96763905447a"
      },
      "source": [
        "ticket_data.sample()"
      ],
      "execution_count": null,
      "outputs": [
        {
          "output_type": "execute_result",
          "data": {
            "text/html": [
              "<div>\n",
              "<style scoped>\n",
              "    .dataframe tbody tr th:only-of-type {\n",
              "        vertical-align: middle;\n",
              "    }\n",
              "\n",
              "    .dataframe tbody tr th {\n",
              "        vertical-align: top;\n",
              "    }\n",
              "\n",
              "    .dataframe thead th {\n",
              "        text-align: right;\n",
              "    }\n",
              "</style>\n",
              "<table border=\"1\" class=\"dataframe\">\n",
              "  <thead>\n",
              "    <tr style=\"text-align: right;\">\n",
              "      <th></th>\n",
              "      <th>id</th>\n",
              "      <th>company</th>\n",
              "      <th>o_station</th>\n",
              "      <th>d_station</th>\n",
              "      <th>departure_ts</th>\n",
              "      <th>arrival_ts</th>\n",
              "      <th>price_in_cents</th>\n",
              "      <th>search_ts</th>\n",
              "      <th>middle_stations</th>\n",
              "      <th>other_companies</th>\n",
              "      <th>o_city</th>\n",
              "      <th>d_city</th>\n",
              "      <th>duree</th>\n",
              "      <th>distance</th>\n",
              "      <th>distance_category</th>\n",
              "      <th>transport_type</th>\n",
              "    </tr>\n",
              "  </thead>\n",
              "  <tbody>\n",
              "    <tr>\n",
              "      <th>41638</th>\n",
              "      <td>6836663</td>\n",
              "      <td>8376</td>\n",
              "      <td>6246.0</td>\n",
              "      <td>3633.0</td>\n",
              "      <td>2017-10-21 09:52:00+00:00</td>\n",
              "      <td>2017-10-21 14:36:00+00:00</td>\n",
              "      <td>9600</td>\n",
              "      <td>2017-10-11 14:08:27.272+00</td>\n",
              "      <td>{396,396,248,248}</td>\n",
              "      <td>{8376,8384}</td>\n",
              "      <td>628</td>\n",
              "      <td>1</td>\n",
              "      <td>0 days 04:44:00</td>\n",
              "      <td>343.591165</td>\n",
              "      <td>201-800km</td>\n",
              "      <td>train</td>\n",
              "    </tr>\n",
              "  </tbody>\n",
              "</table>\n",
              "</div>"
            ],
            "text/plain": [
              "            id  company  o_station  ...    distance distance_category transport_type\n",
              "41638  6836663     8376     6246.0  ...  343.591165         201-800km          train\n",
              "\n",
              "[1 rows x 16 columns]"
            ]
          },
          "metadata": {
            "tags": []
          },
          "execution_count": 334
        }
      ]
    },
    {
      "cell_type": "code",
      "metadata": {
        "colab": {
          "base_uri": "https://localhost:8080/"
        },
        "id": "aiQ_8m1idZ4c",
        "outputId": "af34498e-0e53-4ae0-914c-dc1d46941343"
      },
      "source": [
        "ticket_data.groupby(['transport_type', 'distance_category' ])['price_in_cents'].mean()"
      ],
      "execution_count": null,
      "outputs": [
        {
          "output_type": "execute_result",
          "data": {
            "text/plain": [
              "transport_type  distance_category\n",
              "bus             0-200km               2182.830918\n",
              "                201-800km             3494.850022\n",
              "                800-2000km            6949.950045\n",
              "carpooling      0-200km               1177.352385\n",
              "                201-800km             3218.064310\n",
              "                800-2000km            8626.545455\n",
              "train           0-200km               3487.900779\n",
              "                201-800km             9124.779489\n",
              "                800-2000km           15463.746130\n",
              "Name: price_in_cents, dtype: float64"
            ]
          },
          "metadata": {
            "tags": []
          },
          "execution_count": 333
        }
      ]
    },
    {
      "cell_type": "code",
      "metadata": {
        "id": "k4XdDVIWekvw"
      },
      "source": [
        "my_serie = ticket_data.groupby(['transport_type', 'distance_category' ])['price_in_cents'].mean()"
      ],
      "execution_count": null,
      "outputs": []
    },
    {
      "cell_type": "code",
      "metadata": {
        "colab": {
          "base_uri": "https://localhost:8080/",
          "height": 612
        },
        "id": "TwC67drheksu",
        "outputId": "62e78430-0915-42d3-9614-8ce1ce35f55d"
      },
      "source": [
        "my_serie.plot(kind='barh', figsize=(8, 10), fontsize=14)"
      ],
      "execution_count": null,
      "outputs": [
        {
          "output_type": "execute_result",
          "data": {
            "text/plain": [
              "<matplotlib.axes._subplots.AxesSubplot at 0x7fd46b7e8110>"
            ]
          },
          "metadata": {
            "tags": []
          },
          "execution_count": 363
        },
        {
          "output_type": "display_data",
          "data": {
            "image/png": "[encoded data removed]",
            "text/plain": [
              "<Figure size 576x720 with 1 Axes>"
            ]
          },
          "metadata": {
            "tags": [],
            "needs_background": "light"
          }
        }
      ]
    },
    {
      "cell_type": "markdown",
      "metadata": {
        "id": "RP3Iz1N5mGiO"
      },
      "source": [
        "#### Duree"
      ]
    },
    {
      "cell_type": "code",
      "metadata": {
        "colab": {
          "base_uri": "https://localhost:8080/"
        },
        "id": "lBe8Y1BedZ13",
        "outputId": "273bfdb9-799c-4e48-91fb-960623cb5cd7"
      },
      "source": [
        "ticket_data.groupby(['transport_type', 'distance_category' ])['duree'].apply(np.mean)"
      ],
      "execution_count": null,
      "outputs": [
        {
          "output_type": "execute_result",
          "data": {
            "text/plain": [
              "transport_type  distance_category\n",
              "bus             0-200km             0 days 10:13:57.053140096\n",
              "                201-800km           0 days 15:04:29.269314709\n",
              "                800-2000km          1 days 03:32:10.027247956\n",
              "carpooling      0-200km             0 days 01:57:07.342427561\n",
              "                201-800km           0 days 04:45:47.272436410\n",
              "                800-2000km          0 days 13:06:00.839160839\n",
              "train           0-200km             0 days 04:25:09.840098400\n",
              "                201-800km           0 days 07:40:39.543514566\n",
              "                800-2000km          0 days 12:09:31.021671826\n",
              "Name: duree, dtype: timedelta64[ns]"
            ]
          },
          "metadata": {
            "tags": []
          },
          "execution_count": 337
        }
      ]
    },
    {
      "cell_type": "markdown",
      "metadata": {
        "id": "V3PEumxQxAll"
      },
      "source": [
        "# Prediction des prix"
      ]
    },
    {
      "cell_type": "code",
      "metadata": {
        "id": "Ss-eT7TZxCqg"
      },
      "source": [
        "df = ticket_data.copy()"
      ],
      "execution_count": 498,
      "outputs": []
    },
    {
      "cell_type": "code",
      "metadata": {
        "id": "d5BMXmYUxXi_"
      },
      "source": [
        "df.drop( labels=['o_station', 'd_station', 'departure_ts', 'arrival_ts', 'search_ts', 'middle_stations', 'other_companies', 'id', 'distance_category'], axis=1, inplace=True)"
      ],
      "execution_count": 499,
      "outputs": []
    },
    {
      "cell_type": "code",
      "metadata": {
        "id": "sJUeugVkxWbv"
      },
      "source": [
        "df['duree'] = df.duree.dt.total_seconds()"
      ],
      "execution_count": 500,
      "outputs": []
    },
    {
      "cell_type": "code",
      "metadata": {
        "id": "PGBWIHXEyZKb"
      },
      "source": [
        "y = df['price_in_cents']"
      ],
      "execution_count": 501,
      "outputs": []
    },
    {
      "cell_type": "code",
      "metadata": {
        "id": "R50ao0tgyimb"
      },
      "source": [
        "X = df.drop( 'price_in_cents' ,axis=1)"
      ],
      "execution_count": 502,
      "outputs": []
    },
    {
      "cell_type": "code",
      "metadata": {
        "colab": {
          "base_uri": "https://localhost:8080/",
          "height": 408
        },
        "id": "FJ2s63l5zZkR",
        "outputId": "9ed81100-6b84-49a1-9ca0-f8decee506c4"
      },
      "source": [
        "X = pd.get_dummies(data = X,  columns= ['transport_type'])\n",
        "X"
      ],
      "execution_count": 503,
      "outputs": [
        {
          "output_type": "execute_result",
          "data": {
            "text/html": [
              "<div>\n",
              "<style scoped>\n",
              "    .dataframe tbody tr th:only-of-type {\n",
              "        vertical-align: middle;\n",
              "    }\n",
              "\n",
              "    .dataframe tbody tr th {\n",
              "        vertical-align: top;\n",
              "    }\n",
              "\n",
              "    .dataframe thead th {\n",
              "        text-align: right;\n",
              "    }\n",
              "</style>\n",
              "<table border=\"1\" class=\"dataframe\">\n",
              "  <thead>\n",
              "    <tr style=\"text-align: right;\">\n",
              "      <th></th>\n",
              "      <th>company</th>\n",
              "      <th>o_city</th>\n",
              "      <th>d_city</th>\n",
              "      <th>duree</th>\n",
              "      <th>distance</th>\n",
              "      <th>transport_type_bus</th>\n",
              "      <th>transport_type_carpooling</th>\n",
              "      <th>transport_type_train</th>\n",
              "    </tr>\n",
              "  </thead>\n",
              "  <tbody>\n",
              "    <tr>\n",
              "      <th>0</th>\n",
              "      <td>8385</td>\n",
              "      <td>611</td>\n",
              "      <td>542</td>\n",
              "      <td>22200.0</td>\n",
              "      <td>503.136831</td>\n",
              "      <td>0</td>\n",
              "      <td>1</td>\n",
              "      <td>0</td>\n",
              "    </tr>\n",
              "    <tr>\n",
              "      <th>1</th>\n",
              "      <td>9</td>\n",
              "      <td>611</td>\n",
              "      <td>542</td>\n",
              "      <td>64200.0</td>\n",
              "      <td>503.136831</td>\n",
              "      <td>1</td>\n",
              "      <td>0</td>\n",
              "      <td>0</td>\n",
              "    </tr>\n",
              "    <tr>\n",
              "      <th>2</th>\n",
              "      <td>8377</td>\n",
              "      <td>611</td>\n",
              "      <td>542</td>\n",
              "      <td>115020.0</td>\n",
              "      <td>503.136831</td>\n",
              "      <td>0</td>\n",
              "      <td>0</td>\n",
              "      <td>1</td>\n",
              "    </tr>\n",
              "    <tr>\n",
              "      <th>3</th>\n",
              "      <td>8377</td>\n",
              "      <td>611</td>\n",
              "      <td>542</td>\n",
              "      <td>77700.0</td>\n",
              "      <td>503.136831</td>\n",
              "      <td>0</td>\n",
              "      <td>0</td>\n",
              "      <td>1</td>\n",
              "    </tr>\n",
              "    <tr>\n",
              "      <th>4</th>\n",
              "      <td>8381</td>\n",
              "      <td>611</td>\n",
              "      <td>542</td>\n",
              "      <td>78360.0</td>\n",
              "      <td>503.136831</td>\n",
              "      <td>0</td>\n",
              "      <td>0</td>\n",
              "      <td>1</td>\n",
              "    </tr>\n",
              "    <tr>\n",
              "      <th>...</th>\n",
              "      <td>...</td>\n",
              "      <td>...</td>\n",
              "      <td>...</td>\n",
              "      <td>...</td>\n",
              "      <td>...</td>\n",
              "      <td>...</td>\n",
              "      <td>...</td>\n",
              "      <td>...</td>\n",
              "    </tr>\n",
              "    <tr>\n",
              "      <th>74163</th>\n",
              "      <td>13</td>\n",
              "      <td>628</td>\n",
              "      <td>562</td>\n",
              "      <td>48600.0</td>\n",
              "      <td>339.046766</td>\n",
              "      <td>1</td>\n",
              "      <td>0</td>\n",
              "      <td>0</td>\n",
              "    </tr>\n",
              "    <tr>\n",
              "      <th>74164</th>\n",
              "      <td>9</td>\n",
              "      <td>628</td>\n",
              "      <td>562</td>\n",
              "      <td>23400.0</td>\n",
              "      <td>339.046766</td>\n",
              "      <td>1</td>\n",
              "      <td>0</td>\n",
              "      <td>0</td>\n",
              "    </tr>\n",
              "    <tr>\n",
              "      <th>74165</th>\n",
              "      <td>8371</td>\n",
              "      <td>628</td>\n",
              "      <td>562</td>\n",
              "      <td>24300.0</td>\n",
              "      <td>339.046766</td>\n",
              "      <td>1</td>\n",
              "      <td>0</td>\n",
              "      <td>0</td>\n",
              "    </tr>\n",
              "    <tr>\n",
              "      <th>74166</th>\n",
              "      <td>13</td>\n",
              "      <td>628</td>\n",
              "      <td>562</td>\n",
              "      <td>27900.0</td>\n",
              "      <td>339.046766</td>\n",
              "      <td>1</td>\n",
              "      <td>0</td>\n",
              "      <td>0</td>\n",
              "    </tr>\n",
              "    <tr>\n",
              "      <th>74167</th>\n",
              "      <td>8371</td>\n",
              "      <td>628</td>\n",
              "      <td>562</td>\n",
              "      <td>24900.0</td>\n",
              "      <td>339.046766</td>\n",
              "      <td>1</td>\n",
              "      <td>0</td>\n",
              "      <td>0</td>\n",
              "    </tr>\n",
              "  </tbody>\n",
              "</table>\n",
              "<p>74168 rows × 8 columns</p>\n",
              "</div>"
            ],
            "text/plain": [
              "       company  o_city  ...  transport_type_carpooling  transport_type_train\n",
              "0         8385     611  ...                          1                     0\n",
              "1            9     611  ...                          0                     0\n",
              "2         8377     611  ...                          0                     1\n",
              "3         8377     611  ...                          0                     1\n",
              "4         8381     611  ...                          0                     1\n",
              "...        ...     ...  ...                        ...                   ...\n",
              "74163       13     628  ...                          0                     0\n",
              "74164        9     628  ...                          0                     0\n",
              "74165     8371     628  ...                          0                     0\n",
              "74166       13     628  ...                          0                     0\n",
              "74167     8371     628  ...                          0                     0\n",
              "\n",
              "[74168 rows x 8 columns]"
            ]
          },
          "metadata": {
            "tags": []
          },
          "execution_count": 503
        }
      ]
    },
    {
      "cell_type": "code",
      "metadata": {
        "colab": {
          "base_uri": "https://localhost:8080/"
        },
        "id": "QiGCw9npynI6",
        "outputId": "19a4b140-3ae3-4f2e-f2d5-28e16de0295a"
      },
      "source": [
        "from sklearn.ensemble import GradientBoostingRegressor\n",
        "from sklearn.model_selection import train_test_split\n",
        "from sklearn.metrics import plot_confusion_matrix\n",
        "\n",
        "X_train, X_test, y_train, y_test = train_test_split( X, y, random_state=0)\n",
        "\n",
        "reg = GradientBoostingRegressor(random_state=33, n_estimators=300, learning_rate=0.2, max_depth=8)\n",
        "reg.fit(X_train, y_train)"
      ],
      "execution_count": 508,
      "outputs": [
        {
          "output_type": "execute_result",
          "data": {
            "text/plain": [
              "GradientBoostingRegressor(alpha=0.9, ccp_alpha=0.0, criterion='friedman_mse',\n",
              "                          init=None, learning_rate=0.2, loss='ls', max_depth=8,\n",
              "                          max_features=None, max_leaf_nodes=None,\n",
              "                          min_impurity_decrease=0.0, min_impurity_split=None,\n",
              "                          min_samples_leaf=1, min_samples_split=2,\n",
              "                          min_weight_fraction_leaf=0.0, n_estimators=300,\n",
              "                          n_iter_no_change=None, presort='deprecated',\n",
              "                          random_state=33, subsample=1.0, tol=0.0001,\n",
              "                          validation_fraction=0.1, verbose=0, warm_start=False)"
            ]
          },
          "metadata": {
            "tags": []
          },
          "execution_count": 508
        }
      ]
    },
    {
      "cell_type": "code",
      "metadata": {
        "colab": {
          "base_uri": "https://localhost:8080/"
        },
        "id": "94RFStGYzQz4",
        "outputId": "c94e223c-fef5-4737-c052-51067d9bfecf"
      },
      "source": [
        "reg.score(X_test, y_test)"
      ],
      "execution_count": 509,
      "outputs": [
        {
          "output_type": "execute_result",
          "data": {
            "text/plain": [
              "0.9337494890751233"
            ]
          },
          "metadata": {
            "tags": []
          },
          "execution_count": 509
        }
      ]
    }
  ]
}